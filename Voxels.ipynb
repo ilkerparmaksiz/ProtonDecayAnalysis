{
 "cells": [
  {
   "cell_type": "code",
   "execution_count": 1,
   "metadata": {},
   "outputs": [],
   "source": [
    "import numpy as np\n",
    "import matplotlib.pyplot as plt\n",
    "#import tables\n",
    "import uproot\n",
    "\n",
    "import pandas as pd\n",
    "from mpl_toolkits.mplot3d import Axes3D\n",
    "\n",
    "\n",
    "import matplotlib.cm as cm\n",
    "from matplotlib.colors import Normalize"
   ]
  },
  {
   "cell_type": "code",
   "execution_count": null,
   "metadata": {},
   "outputs": [],
   "source": []
  },
  {
   "cell_type": "code",
   "execution_count": 2,
   "metadata": {},
   "outputs": [],
   "source": [
    "HitsInfo=uproot.open(\"/media/ilker/writable/QPIX_DATA/Proton_Decay.root\")\n",
    "voxelFile=uproot.open(\"/home/ilker/Projects/ProtonDecayAnalysis/Voxelsv2.root\")"
   ]
  },
  {
   "cell_type": "code",
   "execution_count": 43,
   "metadata": {},
   "outputs": [],
   "source": [
    "Event=3\n",
    "MC_Xhit = HitsInfo[\"event_tree/hit_start_x\"].array(library=\"np\")[Event]\n",
    "MC_Yhit = HitsInfo[\"event_tree/hit_start_y\"].array(library=\"np\")[Event]\n",
    "MC_Zhit = HitsInfo[\"event_tree/hit_start_z\"].array(library=\"np\")[Event]\n",
    "MC_Ehit = HitsInfo[\"event_tree/hit_energy_deposit\"].array(library=\"np\")[Event]\n",
    "MC_Ihit = HitsInfo[\"event_tree/hit_start_t\"].array(library=\"np\")[Event]\n",
    "\n"
   ]
  },
  {
   "cell_type": "code",
   "execution_count": 44,
   "metadata": {},
   "outputs": [
    {
     "data": {
      "image/png": "[encoded data removed]",
      "text/plain": [
       "<Figure size 576x576 with 1 Axes>"
      ]
     },
     "metadata": {
      "needs_background": "light"
     },
     "output_type": "display_data"
    }
   ],
   "source": [
    "## Plot the MC truth\n",
    "cmap = cm.viridis\n",
    "fig = plt.figure(figsize=(8,8))\n",
    "ax = fig.add_subplot(111, projection='3d')\n",
    "\n",
    "sc = ax.scatter(MC_Xhit, MC_Yhit, MC_Zhit, c=MC_Ehit, s=35, cmap=cmap)\n",
    "\n",
    "ax.set_xlabel('X [cm]',fontsize=16)\n",
    "ax.set_ylabel('Y [cm]',fontsize=16)\n",
    "ax.set_zlabel('Z [cm]',fontsize=16)\n",
    "#plt.colorbar(sc)\n",
    "#ax.set_xlim(60,100)\n",
    "#ax.set_ylim(1050,1100)\n",
    "#ax.set_zlim(-1150,-1060)\n",
    "\n",
    "mx = np.mean(MC_Xhit)\n",
    "sx = np.std(MC_Xhit)\n",
    "ax.set_xlim(mx-1*sx,mx+1*sx)\n",
    "\n",
    "mx = np.mean(MC_Yhit)\n",
    "sx = np.std(MC_Yhit)\n",
    "ax.set_ylim(mx-1*sx,mx+1*sx)\n",
    "\n",
    "mx = np.mean(MC_Zhit)\n",
    "sx = np.std(MC_Zhit)\n",
    "#ax.set_zlim(mx-1*sx,mx+1*sx)\n",
    "#ax.set_ylim(1050,1100)\n",
    "#ax.set_zlim(-1150,-1060)\n",
    "\n",
    "\n",
    "ax.view_init(0, 230)\n",
    "#ax.view_init(30, 130)\n",
    "\n",
    "plt.show()"
   ]
  },
  {
   "cell_type": "code",
   "execution_count": null,
   "metadata": {},
   "outputs": [],
   "source": []
  },
  {
   "cell_type": "code",
   "execution_count": 5,
   "metadata": {},
   "outputs": [
    {
     "data": {
      "text/plain": [
       "'Reset_Mask = VQ>1*6250\\n\\nVX = VX[Reset_Mask]\\nVY = VY[Reset_Mask]\\nVZ = VZ[Reset_Mask]\\nVQ = VQ[Reset_Mask]\\n\\n'"
      ]
     },
     "execution_count": 5,
     "metadata": {},
     "output_type": "execute_result"
    }
   ],
   "source": [
    "#Voxel_Info\n",
    "Event=1\n",
    "#voxelFile=uproot.open(\"/media/ilker/writable/UTA_Computer/Ilker/QPIX_Develop/Analysis/Voxels.root\")\n",
    "VoxeID=voxelFile[\"voxels/VoxelID\"].array(library=\"np\")[Event]\n",
    "VX=voxelFile[\"voxels/x\"].array(library=\"np\")[Event]\n",
    "VY=voxelFile[\"voxels/y\"].array(library=\"np\")[Event]\n",
    "VZ=voxelFile[\"voxels/z\"].array(library=\"np\")[Event]\n",
    "VQ=voxelFile[\"voxels/q\"].array(library=\"np\")[Event]\n",
    "\n",
    "'''Reset_Mask = VQ>1*6250\n",
    "\n",
    "VX = VX[Reset_Mask]\n",
    "VY = VY[Reset_Mask]\n",
    "VZ = VZ[Reset_Mask]\n",
    "VQ = VQ[Reset_Mask]\n",
    "\n",
    "'''"
   ]
  },
  {
   "cell_type": "code",
   "execution_count": 6,
   "metadata": {},
   "outputs": [
    {
     "data": {
      "text/plain": [
       "354"
      ]
     },
     "execution_count": 6,
     "metadata": {},
     "output_type": "execute_result"
    }
   ],
   "source": [
    "len(VQ)"
   ]
  },
  {
   "cell_type": "code",
   "execution_count": 9,
   "metadata": {},
   "outputs": [],
   "source": [
    "#Offset\n",
    "VX=VX-min(VX)\n",
    "VY=VY-min(VY)\n",
    "VZ=VZ-min(VZ)\n",
    "x_dim=int(max(VX))\n",
    "y_dim=int(max(VY))\n",
    "z_dim=int(max(VZ))\n",
    "\n",
    "VOXELS = np.zeros((x_dim+1,y_dim+1,z_dim+1))"
   ]
  },
  {
   "cell_type": "code",
   "execution_count": null,
   "metadata": {},
   "outputs": [],
   "source": []
  },
  {
   "cell_type": "code",
   "execution_count": 10,
   "metadata": {},
   "outputs": [],
   "source": [
    "# sort through the event set the \"turn on\" the hit voxels \n",
    "cmap = cm.viridis\n",
    "cmap = cm.afmhot\n",
    "# cmap = cm.Reds\n",
    "# cmap = cm.coolwarm\n",
    "# cmap = cm.bwr\n",
    "norm = Normalize(vmin=0, vmax=max(VQ))\n",
    "norm = Normalize(vmin=min(VQ), vmax=max(VQ))\n",
    "\n",
    "colors = np.empty(VOXELS.shape, dtype=object)\n",
    "for q in range(0,len(VZ)):\n",
    "    VOXELS[int(VX[q])][int(VY[q])][int(VZ[q])] = 1\n",
    "    colors[int(VX[q])][int(VY[q])][int(VZ[q])] = cmap(norm(VQ[q]))\n"
   ]
  },
  {
   "cell_type": "code",
   "execution_count": null,
   "metadata": {},
   "outputs": [
    {
     "name": "stderr",
     "output_type": "stream",
     "text": [
      "<ipython-input-54-29d08b0df697>:3: MatplotlibDeprecationWarning: Calling gca() with keyword arguments was deprecated in Matplotlib 3.4. Starting two minor releases later, gca() will take no keyword arguments. The gca() function should only be used to get the current axes, or if no axes exist, create new axes with default keyword arguments. To create a new axes with non-default arguments, use plt.axes() or plt.subplot().\n",
      "  ax = fig.gca(projection='3d')\n"
     ]
    }
   ],
   "source": [
    "# and plot everything\n",
    "fig = plt.figure(figsize=(8,8))\n",
    "ax = fig.gca(projection='3d')\n",
    "#a,b,c is spacing in mm needs an extra dim\n",
    "a,b,c = np.indices((x_dim+2,y_dim+2,z_dim+2))*4\n",
    "# ax.voxels(a,b,c, VOXELS , facecolors=colors , edgecolor='k',alpha=0.2)\n",
    "\n",
    "ax.voxels(a,b,c, VOXELS , facecolors=colors ,alpha=0.7)\n",
    "\n",
    "ax.set_xlabel('X [mm]',fontsize=16)\n",
    "ax.set_ylabel('Y [mm]',fontsize=16)\n",
    "ax.set_zlabel('Z [mm]',fontsize=16)\n",
    "\n",
    "ax.set_xlim([10,175])\n",
    "ax.set_ylim([10,100])\n",
    "ax.set_zlim([10,200])\n",
    "\n",
    "ax.view_init(20, 230)\n",
    "#ax.view_init(10, 250)\n",
    "# ax.view_init(20, 230)\n",
    "\n",
    "plt.show()"
   ]
  },
  {
   "cell_type": "code",
   "execution_count": 30,
   "metadata": {},
   "outputs": [],
   "source": []
  }
 ],
 "metadata": {
  "kernelspec": {
   "display_name": "Python 3",
   "language": "python",
   "name": "python3"
  },
  "language_info": {
   "codemirror_mode": {
    "name": "ipython",
    "version": 3
   },
   "file_extension": ".py",
   "mimetype": "text/x-python",
   "name": "python",
   "nbconvert_exporter": "python",
   "pygments_lexer": "ipython3",
   "version": "3.9.7"
  }
 },
 "nbformat": 4,
 "nbformat_minor": 4
}
